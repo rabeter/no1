{
 "cells": [
  {
   "cell_type": "markdown",
   "metadata": {
    "collapsed": true
   },
   "source": [
    "# numpy"
   ]
  },
  {
   "cell_type": "markdown",
   "metadata": {},
   "source": [
    "numpy在数组的存储于输入输出效率远远高于python中的数组\n",
    "numpy与C语言写成，执行效率高效\n"
   ]
  },
  {
   "cell_type": "code",
   "execution_count": 1,
   "metadata": {},
   "outputs": [
    {
     "name": "stdout",
     "output_type": "stream",
     "text": [
      "[ 0  1  4  9 16]\n"
     ]
    }
   ],
   "source": [
    "import numpy as np\n",
    "# numpy不使用循环，有arange方法\n",
    "print(np.arange(5)**2)"
   ]
  },
  {
   "cell_type": "code",
   "execution_count": 3,
   "metadata": {},
   "outputs": [
    {
     "name": "stdout",
     "output_type": "stream",
     "text": [
      "[1, 2, 3, 4]\n"
     ]
    }
   ],
   "source": [
    "print([1,2,3,4])\n",
    "# numpy中标示数组方式有所不同"
   ]
  },
  {
   "cell_type": "code",
   "execution_count": 7,
   "metadata": {},
   "outputs": [],
   "source": [
    "# x = input(\"ipynb\")\n",
    "# 无法进行读入操作"
   ]
  },
  {
   "cell_type": "heading",
   "metadata": {},
   "level": 2,
   "source": [
    "数据类型"
   ]
  },
  {
   "cell_type": "markdown",
   "metadata": {},
   "source": [
    "1. 数组对象ndarray\n",
    "\n"
   ]
  },
  {
   "cell_type": "code",
   "execution_count": 43,
   "metadata": {
    "collapsed": true
   },
   "outputs": [
    {
     "name": "stdout",
     "output_type": "stream",
     "text": [
      "2.0 [0 1 2 3 4]\n"
     ]
    },
    {
     "data": {
      "text/plain": [
       "dtype('float64')"
      ]
     },
     "execution_count": 43,
     "metadata": {},
     "output_type": "execute_result"
    }
   ],
   "source": [
    "a = np.arange(5)  #返回数组对象\n",
    "b = np.array([[1,2.0],[5,2]])\n",
    "print(b[1,1],a)\n",
    "b.dtype #全部自动转换数据类型"
   ]
  },
  {
   "cell_type": "code",
   "execution_count": 37,
   "metadata": {},
   "outputs": [
    {
     "data": {
      "text/plain": [
       "array([0, 1])"
      ]
     },
     "execution_count": 37,
     "metadata": {},
     "output_type": "execute_result"
    }
   ],
   "source": [
    "m = np.array([np.arange(2),np.arange(2)])\n",
    "# 创建多维数组\n",
    "m[1]"
   ]
  },
  {
   "cell_type": "markdown",
   "metadata": {},
   "source": [
    "\n",
    "| bool | 用一位存储的布尔类型（值为 TRUE 或 FALSE ）|\n",
    "| ----- | ----- |\n",
    "| inti | 由所在平台决定其精度的整数（一般为 int32 或 int64 ） |\n",
    "int8|整数，范围为128至127|\n",
    "|int16|整数，范围为32 768至32 767|\n",
    "|int32|整数，范围为2 31 至2 31 1|\n",
    "|int64|整数，范围为2 63 至2 63 1|\n",
    "|uint8|无符号整数，范围为0至255|\n",
    "|uint16|无符号整数，范围为0至65 535|\n",
    "|uint32|无符号整数，范围为0至2 32 1|\n",
    "|uint64|无符号整数，范围为0至2 64 1|\n",
    "|float16|半精度浮点数（16位）：其中用1位表示正负号，5位表示指数，10位表示尾数|\n",
    "|float32|单精度浮点数（32位）：其中用1位表示正负号，8位表示指数，23位表示尾数|\n",
    "|complex64|复数，分别用两个32位浮点数表示实部和虚部|"
   ]
  },
  {
   "cell_type": "code",
   "execution_count": 44,
   "metadata": {},
   "outputs": [
    {
     "data": {
      "text/plain": [
       "array([3, 4, 5, 6])"
      ]
     },
     "execution_count": 44,
     "metadata": {},
     "output_type": "execute_result"
    }
   ],
   "source": [
    "a = np.arange(9)\n",
    "a[3:7] #索引"
   ]
  },
  {
   "cell_type": "code",
   "execution_count": 50,
   "metadata": {},
   "outputs": [
    {
     "data": {
      "text/plain": [
       "array([8, 7, 6, 5, 4, 3, 2, 1, 0])"
      ]
     },
     "execution_count": 50,
     "metadata": {},
     "output_type": "execute_result"
    }
   ],
   "source": [
    "a1 = a[:7:2]\n",
    "a1 #默认从零开始，步长为2\n",
    "a2 = a[1: : 2]\n",
    "a2 #默认到最后\n",
    "a[::-1] #翻转数组"
   ]
  },
  {
   "cell_type": "code",
   "execution_count": 61,
   "metadata": {},
   "outputs": [
    {
     "name": "stdout",
     "output_type": "stream",
     "text": [
      "[[[ 0  1  2  3]\n  [ 4  5  6  7]\n  [ 8  9 10 11]]\n\n [[12 13 14 15]\n  [16 17 18 19]\n  [20 21 22 23]]] \n --------------- \n [[[23 22 21 20]\n  [19 18 17 16]\n  [15 14 13 12]]\n\n [[11 10  9  8]\n  [ 7  6  5  4]\n  [ 3  2  1  0]]]\n"
     ]
    }
   ],
   "source": [
    "muti = np.arange(24).reshape(2,3,4) #改变维度2*3*4\n",
    "remuti = muti[::-1,::-1,::-1]\n",
    "print(muti,\"\\n\",\"-----\"*3,\"\\n\",remuti)"
   ]
  },
  {
   "cell_type": "code",
   "execution_count": 63,
   "metadata": {},
   "outputs": [
    {
     "data": {
      "text/plain": [
       "array([ 0,  1,  2,  3,  4,  5,  6,  7,  8,  9, 10, 11, 12, 13, 14, 15, 16,\n       17, 18, 19, 20, 21, 22, 23])"
      ]
     },
     "execution_count": 63,
     "metadata": {},
     "output_type": "execute_result"
    }
   ],
   "source": [
    "one = muti.ravel()\n",
    "#  flatten 就是展平的意思，与 ravel 函数的功能相同。\n",
    "# 不过， flatten 函数会请求分配内存来保存结果，而 ravel 函数只是返回数组的一个视图\n",
    "one #降维展平"
   ]
  },
  {
   "cell_type": "code",
   "execution_count": 72,
   "metadata": {
    "collapsed": true
   },
   "outputs": [
    {
     "data": {
      "text/plain": [
       "array([[ 0,  1,  2,  3],\n       [ 4,  5,  6,  7],\n       [ 8,  9, 10, 11],\n       [12, 13, 14, 15],\n       [16, 17, 18, 19],\n       [20, 21, 22, 23]])"
      ]
     },
     "execution_count": 72,
     "metadata": {},
     "output_type": "execute_result"
    }
   ],
   "source": [
    "one.shape= (4,6)\n",
    " # resize resize 和 reshape 函数的功能一样，但 resize 会直接修改所操作的数组\n",
    "one.reshape(6,4)  #重新分配"
   ]
  },
  {
   "cell_type": "code",
   "execution_count": 73,
   "metadata": {},
   "outputs": [
    {
     "data": {
      "text/plain": [
       "array([[ 0,  6, 12, 18],\n       [ 1,  7, 13, 19],\n       [ 2,  8, 14, 20],\n       [ 3,  9, 15, 21],\n       [ 4, 10, 16, 22],\n       [ 5, 11, 17, 23]])"
      ]
     },
     "execution_count": 73,
     "metadata": {},
     "output_type": "execute_result"
    }
   ],
   "source": [
    "one.transpose() #矩阵转置"
   ]
  },
  {
   "cell_type": "heading",
   "metadata": {},
   "level": 2,
   "source": [
    "scipy&PIL"
   ]
  },
  {
   "cell_type": "code",
   "execution_count": null,
   "metadata": {},
   "outputs": [],
   "source": [
    "import scipy as sp\n",
    "imgCat = sp.imag('cat.jpg')"
   ]
  }
 ],
 "metadata": {
  "kernelspec": {
   "display_name": "Python 2",
   "language": "python",
   "name": "python2"
  },
  "language_info": {
   "codemirror_mode": {
    "name": "ipython",
    "version": 2.0
   },
   "file_extension": ".py",
   "mimetype": "text/x-python",
   "name": "python",
   "nbconvert_exporter": "python",
   "pygments_lexer": "ipython2",
   "version": "2.7.6"
  }
 },
 "nbformat": 4,
 "nbformat_minor": 0
}